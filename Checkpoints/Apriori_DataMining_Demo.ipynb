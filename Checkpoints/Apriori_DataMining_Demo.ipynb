{
 "cells": [
  {
   "cell_type": "markdown",
   "id": "ce9805c8",
   "metadata": {},
   "source": [
    "\n",
    "# **Apriori Data Mining Project**\n",
    "This notebook demonstrates **Market Basket Analysis** using the **Apriori Algorithm**.\n",
    "The objective is to find frequent item sets and generate association rules from transactional data.\n"
   ]
  },
  {
   "cell_type": "code",
   "execution_count": null,
   "id": "26252803",
   "metadata": {},
   "outputs": [],
   "source": [
    "\n",
    "import pandas as pd\n",
    "import numpy as np\n",
    "import matplotlib.pyplot as plt\n",
    "from apyori import apriori\n",
    "from mlxtend.frequent_patterns import apriori as mlxtend_apriori\n",
    "from mlxtend.frequent_patterns import association_rules\n"
   ]
  },
  {
   "cell_type": "markdown",
   "id": "12387308",
   "metadata": {},
   "source": [
    "## **1. Load and Preprocess Dataset**"
   ]
  },
  {
   "cell_type": "code",
   "execution_count": null,
   "id": "7d22f480",
   "metadata": {},
   "outputs": [],
   "source": [
    "\n",
    "# Load Dataset\n",
    "df = pd.read_csv(\"Market_Basket_Optimisation.csv\", header=None)\n",
    "df.fillna(0, inplace=True)\n",
    "\n",
    "# Convert Data into Transactions Format\n",
    "transactions = []\n",
    "for i in range(len(df)):\n",
    "    transactions.append([str(df.values[i, j]) for j in range(20) if str(df.values[i, j]) != '0'])\n",
    "\n",
    "print(\"Total Transactions:\", len(transactions))\n"
   ]
  },
  {
   "cell_type": "markdown",
   "id": "57cf0136",
   "metadata": {},
   "source": [
    "## **2. Apply Apriori Algorithm (apyori)**"
   ]
  },
  {
   "cell_type": "code",
   "execution_count": null,
   "id": "0004c07f",
   "metadata": {},
   "outputs": [],
   "source": [
    "\n",
    "# Apply Apriori\n",
    "rules = apriori(transactions, min_support=0.003, min_confidence=0.2, min_lift=3, min_length=2)\n",
    "results = list(rules)\n",
    "\n",
    "# Convert Results to DataFrame\n",
    "df_results = pd.DataFrame(results)\n",
    "df_results.head()\n"
   ]
  },
  {
   "cell_type": "markdown",
   "id": "53d3ae15",
   "metadata": {},
   "source": [
    "## **3. Extract and Display Rules**"
   ]
  },
  {
   "cell_type": "code",
   "execution_count": null,
   "id": "b7e251d7",
   "metadata": {},
   "outputs": [],
   "source": [
    "\n",
    "support = df_results.support\n",
    "lhs_values, rhs_values, confidence_values, lift_values = [], [], [], []\n",
    "\n",
    "for i in range(df_results.shape[0]):\n",
    "    rule = df_results['ordered_statistics'][i][0]\n",
    "    lhs_values.append(list(rule[0]))\n",
    "    rhs_values.append(list(rule[1]))\n",
    "    confidence_values.append(rule[2])\n",
    "    lift_values.append(rule[3])\n",
    "\n",
    "# Create DataFrame for Association Rules\n",
    "lhs = pd.DataFrame(lhs_values)\n",
    "rhs = pd.DataFrame(rhs_values)\n",
    "confidence = pd.DataFrame(confidence_values, columns=['Confidence'])\n",
    "lift = pd.DataFrame(lift_values, columns=['Lift'])\n",
    "\n",
    "df_final = pd.concat([lhs, rhs, support, confidence, lift], axis=1)\n",
    "df_final.fillna('', inplace=True)\n",
    "df_final.columns = ['LHS', 'Item_1', 'RHS', 'Item_2', 'Item_3', 'Support', 'Confidence', 'Lift']\n",
    "df_final['LHS'] = df_final['LHS'].astype(str) + ', ' + df_final['Item_1'].astype(str)\n",
    "df_final['RHS'] = df_final['RHS'].astype(str) + ', ' + df_final['Item_2'].astype(str) + ', ' + df_final['Item_3'].astype(str)\n",
    "df_final.drop(columns=['Item_1', 'Item_2', 'Item_3'], inplace=True)\n",
    "\n",
    "# Display Top 10 Rules by Lift\n",
    "df_final.sort_values('Lift', ascending=False).head(10)\n"
   ]
  },
  {
   "cell_type": "markdown",
   "id": "a45fe4af",
   "metadata": {},
   "source": [
    "## **4. Visualizing Top Products**"
   ]
  },
  {
   "cell_type": "code",
   "execution_count": null,
   "id": "a5e77ee8",
   "metadata": {},
   "outputs": [],
   "source": [
    "\n",
    "# Load Second Dataset\n",
    "df1 = pd.read_csv(\"data-2.csv\", encoding=\"ISO-8859-1\")\n",
    "df1['Description'] = df1['Description'].str.strip()\n",
    "df1 = df1[df1.Quantity > 0]\n",
    "df1.dropna(subset=['Description'], inplace=True)\n",
    "\n",
    "# Plot Top Sold Items\n",
    "top_items = df1.groupby(\"Description\")[\"Quantity\"].sum().sort_values(ascending=False).head(10)\n",
    "plt.figure(figsize=(10, 6))\n",
    "plt.bar(top_items.index, top_items.values)\n",
    "plt.xticks(rotation=45)\n",
    "plt.title(\"Top 10 Most Sold Items\")\n",
    "plt.xlabel(\"Items\")\n",
    "plt.ylabel(\"Quantity\")\n",
    "plt.show()\n"
   ]
  },
  {
   "cell_type": "markdown",
   "id": "f807b729",
   "metadata": {},
   "source": [
    "## **5. Apply Apriori with mlxtend**"
   ]
  },
  {
   "cell_type": "code",
   "execution_count": null,
   "id": "964ac474",
   "metadata": {},
   "outputs": [],
   "source": [
    "\n",
    "# Convert Data into Binary Format\n",
    "basket = df1.pivot_table(index='InvoiceNo', columns='Description', values='Quantity', aggfunc='sum', fill_value=0)\n",
    "basket_sets = basket.applymap(lambda x: 1 if x > 0 else 0)\n",
    "\n",
    "# Apply Apriori\n",
    "frequent_itemsets = mlxtend_apriori(basket_sets, min_support=0.03, use_colnames=True)\n",
    "rules_mlxtend = association_rules(frequent_itemsets, metric=\"lift\", min_threshold=1)\n",
    "\n",
    "# Filter Strong Rules\n",
    "strong_rules = rules_mlxtend[(rules_mlxtend['lift'] >= 4) & (rules_mlxtend['confidence'] >= 0.7)]\n",
    "strong_rules.head()\n"
   ]
  },
  {
   "cell_type": "markdown",
   "id": "511e8cc2",
   "metadata": {},
   "source": [
    "## **6. Save Results**"
   ]
  },
  {
   "cell_type": "code",
   "execution_count": null,
   "id": "e0041f21",
   "metadata": {},
   "outputs": [],
   "source": [
    "\n",
    "# Save results to CSV\n",
    "df_final.to_csv(\"apriori_rules.csv\", index=False)\n",
    "strong_rules.to_csv(\"strong_association_rules.csv\", index=False)\n",
    "print(\"Apriori analysis completed and results saved.\")\n"
   ]
  }
 ],
 "metadata": {},
 "nbformat": 4,
 "nbformat_minor": 5
}
